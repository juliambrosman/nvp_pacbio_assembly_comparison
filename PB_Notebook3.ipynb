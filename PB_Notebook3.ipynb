{
 "cells": [
  {
   "cell_type": "markdown",
   "metadata": {},
   "source": [
    "# Pushing and analyzing assembly results"
   ]
  },
  {
   "cell_type": "code",
   "execution_count": 11,
   "metadata": {
    "collapsed": false
   },
   "outputs": [
    {
     "name": "stdout",
     "output_type": "stream",
     "text": [
      "1.080.O.\t5\n",
      "1.043.O.\t5\n",
      "1.095.O.\t5\n",
      "1.107.C.\t5\n",
      "1.020.O.\t5\n",
      "1.008.O.\t5\n",
      "1.249.A.\t0\n",
      "1.190.O.\t25\n",
      "1.259.O.\t24\n",
      "2.159.B.\t12\n",
      "1.028.O.\t12\n",
      "1.257.O.\t23\n",
      "1.082.O.\t17\n",
      "1.176.O.\t17\n",
      "1.228.O.\t17\n",
      "1.148.O.\t17\n",
      "1.233.B.\t17\n",
      "1.189.O.\t17\n",
      "1.182.O.\t17\n",
      "1.074.O.\t17\n",
      "1.165.O.\t17\n",
      "1.154.O.\t15\n",
      "1.211.B.\t27\n",
      "1.110.O.\t17\n",
      "1.275.O.\t28\n",
      "1.131.O.\t17\n",
      "1.239.O.\t17\n",
      "1.111.B.\t21\n",
      "1.216.O.\t22\n",
      "12G01.O.\t1\n",
      "1.054.O.\t9\n",
      "1.090.B.\t1\n",
      "1.135.O.\t22\n",
      "1.236.O.\t22\n",
      "1.052.A.\t15\n",
      "1.209.O.\t8\n",
      "1.185.O.\t10\n",
      "1.291.O.\t14\n",
      "1.077.O.\t18\n",
      "1.204.O.\t16\n",
      "1.151.O.\t22\n",
      "1.276.O.\t22\n",
      "1.144.O.\t22\n",
      "1.009.O.\t3\n",
      "1.122.B.\t7\n",
      "1.231.O.\t22\n",
      "2.095.B.\t22\n",
      "2.096.O.\t15\n",
      "2.044.O.\t2\n",
      "1.177.O.\t22\n",
      "1.087.A.\t3\n",
      "1.030.O.\t3\n",
      "1.123.O.\t4\n",
      "1.029.O.\t9\n",
      "1.253.O.\t32\n",
      "1.262.O.\t30\n",
      "1.210.O.\t19\n",
      "1.293.O.\t30\n",
      "1.191.O.\t3\n",
      "1.007.O.\t4\n",
      "1.042.O.\t9\n",
      "1.181.O.\t3\n",
      "1.086.O.\t3\n",
      "2.117.O.\t29\n",
      "1.232.O.\t22\n",
      "1.205.O.\t28\n",
      "1.285.O.\t6\n",
      "1.283.C.\t6\n",
      "1.261.O.\t26\n",
      "2.130.O.\t11\n",
      "1.215.A.\t31\n",
      "3.058.O.\t34\n",
      "1.063.O.\t16\n",
      "1.193.O.\t16\n",
      "1.187.O.\t16\n",
      "1.170.O.\t16\n",
      "1.161.O.\t16\n",
      "1.084.O.\t20\n",
      "1.121.O.\t16\n",
      "1.031.O.\t13\n",
      "1.255.O.\t13\n",
      "2.275.O.\t13\n"
     ]
    }
   ],
   "source": [
    "phages=open(\"./data/K2.151228_PacBio_Nahant_Phages.txt\").readlines()\n",
    "phages=[i.replace(\"\\r\\n\",\"\") for i in phages]\n",
    "groups=open(\"/Users/jmb/Desktop/ViralFate/OrthoMCL/tSNE/tSNE_genome_clusters.txt\").readlines()\n",
    "plist=[i.split(\"\\t\")[0] for i in groups[1:]]\n",
    "grplist=[i.split(\"\\t\")[-1].replace(\"\\n\",\"\") for i in groups[1:]]\n",
    "pgd=dict(zip(plist, grplist))\n",
    "pgd\n",
    "\n",
    "for p in phages:\n",
    "    print(\"%s\\t%s\" % (p, pgd[p]))"
   ]
  },
  {
   "cell_type": "code",
   "execution_count": null,
   "metadata": {
    "collapsed": true
   },
   "outputs": [],
   "source": []
  },
  {
   "cell_type": "code",
   "execution_count": 14,
   "metadata": {
    "collapsed": false
   },
   "outputs": [],
   "source": [
    "from collections import defaultdict\n",
    "pbonly=open(\"./data/asm1_blast_comparison_summed_matches.txt\").readlines()\n",
    "\n",
    "pbodict=defaultdict(lambda:set())\n",
    "\n",
    "for l in pbonly[1:]:\n",
    "    vec=l.split(\"\\t\")\n",
    "    ctg=vec[0]\n",
    "    phage=vec[1]\n",
    "    pbodict[phage].add(ctg)"
   ]
  },
  {
   "cell_type": "code",
   "execution_count": 15,
   "metadata": {
    "collapsed": false
   },
   "outputs": [
    {
     "data": {
      "text/plain": [
       "defaultdict(<function __main__.<lambda>>,\n",
       "            {'1.007.O.': {'ctg7180000000098'},\n",
       "             '1.028.O.': {'ctg7180000000156'},\n",
       "             '1.029.O.': {'ctg7180000000158'},\n",
       "             '1.030.O.': {'ctg7180000000154'},\n",
       "             '1.042.O.': {'ctg7180000000109'},\n",
       "             '1.052.A.': {'ctg7180000000159'},\n",
       "             '1.054.O.': {'ctg7180000000121'},\n",
       "             '1.063.O.': {'ctg7180000000088'},\n",
       "             '1.074.O.': {'ctg7180000000127', 'ctg7180000000142'},\n",
       "             '1.084.O.': {'ctg7180000000091'},\n",
       "             '1.086.O.': {'ctg7180000000141'},\n",
       "             '1.087.A.': {'ctg7180000000150'},\n",
       "             '1.090.B.': {'ctg7180000000126'},\n",
       "             '1.110.O.': {'ctg7180000000118'},\n",
       "             '1.121.O.': {'ctg7180000000086'},\n",
       "             '1.122.B.': {'ctg7180000000117'},\n",
       "             '1.123.O.': {'ctg7180000000107'},\n",
       "             '1.131.O.': {'ctg7180000000120'},\n",
       "             '1.135.O.': {'ctg7180000000108'},\n",
       "             '1.144.O.': {'ctg7180000000111'},\n",
       "             '1.148.O.': {'ctg7180000000106', 'ctg7180000000110'},\n",
       "             '1.151.O.': {'ctg7180000000125'},\n",
       "             '1.154.O.': {'ctg7180000000134'},\n",
       "             '1.161.O.': {'ctg7180000000087'},\n",
       "             '1.170.O.': {'ctg7180000000089'},\n",
       "             '1.176.O.': {'ctg7180000000129'},\n",
       "             '1.177.O.': {'ctg7180000000094'},\n",
       "             '1.182.O.': {'ctg7180000000124'},\n",
       "             '1.185.O.': {'ctg7180000000113'},\n",
       "             '1.187.O.': {'ctg7180000000092'},\n",
       "             '1.189.O.': {'ctg7180000000112'},\n",
       "             '1.190.O.': {'ctg7180000000136'},\n",
       "             '1.191.O.': {'ctg7180000000155'},\n",
       "             '1.193.O.': {'ctg7180000000090'},\n",
       "             '1.205.O.': {'ctg7180000000096'},\n",
       "             '1.209.O.': {'ctg7180000000146', 'ctg7180000000147'},\n",
       "             '1.210.O.': {'ctg7180000000123'},\n",
       "             '1.211.B.': {'ctg7180000000131'},\n",
       "             '1.215.A.': {'ctg7180000000093'},\n",
       "             '1.216.O.': {'ctg7180000000115'},\n",
       "             '1.228.O.': {'ctg7180000000130'},\n",
       "             '1.231.O.': {'ctg7180000000122'},\n",
       "             '1.232.O.': {'ctg7180000000133'},\n",
       "             '1.233.B.': {'ctg7180000000128'},\n",
       "             '1.239.O.': {'ctg7180000000137'},\n",
       "             '1.253.O.': {'ctg7180000000132'},\n",
       "             '1.255.O.': {'ctg7180000000095'},\n",
       "             '1.257.O.': {'ctg7180000000151'},\n",
       "             '1.259.O.': {'ctg7180000000149'},\n",
       "             '1.261.O.': {'ctg7180000000100'},\n",
       "             '1.262.O.': {'ctg7180000000135'},\n",
       "             '1.275.O.': {'ctg7180000000153'},\n",
       "             '1.276.O.': {'ctg7180000000119'},\n",
       "             '1.283.C.': {'ctg7180000000138'},\n",
       "             '1.285.O.': {'ctg7180000000157'},\n",
       "             '1.293.O.': {'ctg7180000000139'},\n",
       "             '2.044.O.': {'ctg7180000000143'},\n",
       "             '2.095.B.': {'ctg7180000000102'},\n",
       "             '2.096.O.': {'ctg7180000000152'},\n",
       "             '2.117.O.': {'ctg7180000000148'},\n",
       "             '2.130.O.': {'ctg7180000000101'},\n",
       "             '2.159.B.': {'ctg7180000000156'},\n",
       "             '3.058.O.': {'ctg7180000000099'}})"
      ]
     },
     "execution_count": 15,
     "metadata": {},
     "output_type": "execute_result"
    }
   ],
   "source": []
  },
  {
   "cell_type": "code",
   "execution_count": null,
   "metadata": {
    "collapsed": true
   },
   "outputs": [],
   "source": [
    "from collections import defaultdict\n",
    "import os\n",
    "from pyfaidx import Fasta\n",
    "\n",
    "if os.path.exists(\"./contigs/\")==False:\n",
    "    os.mkdir(\"./contigs/\")\n",
    "\n",
    "phages=open(\"K2.151228_PacBio_Nahant_Phages.txt\").readlines()\n",
    "phages=[i.replace(\"\\r\\n\",\"\") for i in phages]\n",
    "\n",
    "pbonly=open(\"asm1_blast_comparison_summed_matches.txt\").readlines()\n",
    "\n",
    "pbodict=defaultdict(lambda:set())\n",
    "\n",
    "for l in pbonly[1:]:\n",
    "    vec=l.split(\"\\t\")\n",
    "    ctg=vec[0]\n",
    "    phage=vec[1]\n",
    "    pbodict[phage].add(ctg)\n",
    "    \n",
    "kkhgap=open(\"kkhgap_blast_comparison_summed_matches.txt\").readlines()\n",
    "kkdict=defaultdict(lambda:set())\n",
    "\n",
    "for k in kkhgap[1:]:\n",
    "    vec=k.split(\"\\t\")\n",
    "    ctg=vec[0]\n",
    "    phage=vec[1]\n",
    "    ct=float(vec[-1].replace(\"\\n\",\"\"))\n",
    "    if ct<0.15:\n",
    "        kkdict[phage].add(ctg)\n",
    "\n",
    "for p in phages:\n",
    "    try1=\"./try1/nvp_%s_binned_asm_try1/\" % p\n",
    "    try2=\"./nvp_%s_binned_asm_try2/\" % p\n",
    "    if os.path.exists(try1) or os.path.exists(try2) or p in pbodict.keys():\n",
    "        print \"some %s assemblies exist\" % p\n",
    "        \n",
    "        hybrids=[\"%s9-terminator/asm.ctg.fasta\" % try1, \"%s9-terminator/asm.ctg.fasta\" % try2]\n",
    "        if os.path.exists(\"./contigs/%s\" % p)==False:\n",
    "            os.mkdir(\"./contigs/%s\" % p)\n",
    "        outfasta=open(\"./contigs/%s/%sasm.tries.fasta\" % (p,p), \"w\")\n",
    "        for h in hybrids:\n",
    "            if os.path.exists(h):\n",
    "                print \"%s worked\" % h\n",
    "                f1=Fasta(h)\n",
    "                for f in f1.keys():\n",
    "                    single=open(\"./contigs/%s/%s%s.hybrid.asm.fasta\" % (p, p, h.split(\"/\")[1]),\"w\")\n",
    "                    single.write(\">%s%s\\n%s\\n\" % (p, h.split(\"/\")[1], str(f1[f])))\n",
    "                    outfasta.write(\">%s%s\\n%s\\n\" % (p, h.split(\"/\")[1], str(f1[f])))\n",
    "                    single.close() \n",
    "        pbonlys=[(\"./nvp_pba_1/9-terminator/asm.ctg.fasta\",\"pbcr1\", pbodict), (\"/nobackup1/jbrown/nahant_phage_pacbio/SMRTportal_HGAPv2_defaults/kkHGAP.fasta\",\"kkhgap1\",kkdict)]\n",
    "        for assembly, name, cdict in pbonlys:\n",
    "            f2=Fasta(assembly)\n",
    "            ctgs=cdict[p]\n",
    "            if len(ctgs)>0:\n",
    "                print \"%s has a match in the original %s assembly\" % (p, name)\n",
    "                for c in ctgs:\n",
    "                    single=open(\"./contigs/%s/%s_%s.fasta\" % (p, p, name),\"w\")\n",
    "                    single.write(\">%s_%s\\n%s\\n\" % (c, name,str(f2[c])))\n",
    "                    outfasta.write(\">%s_%s\\n%s\\n\" % (c, name,str(f2[c])))\n",
    "                    single.close()\n",
    "        outfasta.close()"
   ]
  },
  {
   "cell_type": "markdown",
   "metadata": {},
   "source": [
    ">### Ran above on server using ipython"
   ]
  },
  {
   "cell_type": "markdown",
   "metadata": {},
   "source": [
    "# Next\n",
    "\n",
    "## draw gepard dot plots of illumina genomes versus kkhgap assemblies\n",
    "\n",
    "## Then draw gepard dot plots of the hybrid assemblies\n",
    "\n",
    ">### on engaging run in ipython:\n"
   ]
  },
  {
   "cell_type": "code",
   "execution_count": null,
   "metadata": {
    "collapsed": true
   },
   "outputs": [],
   "source": [
    "from collections import defaultdict\n",
    "import os\n",
    "import glob\n",
    "import subprocess\n",
    "\n",
    "\n",
    "if os.path.exists(\"./comparisons/\")==False:\n",
    "    os.mkdir(\"./comparisons/\")\n",
    "    os.mkdir(\"./comparisons/gepard/\")\n",
    "\n",
    "phages=[i.replace(\"\\r\\n\",\"\") for i in open(\"K2.151228_PacBio_Nahant_Phages.txt\").readlines()]\n",
    "\n",
    "for phage in phages:\n",
    "    illumina_asm=\"/nobackup1/jbrown/annotation/genomes/%sfinal.fasta\" % phage\n",
    "    if os.path.exists(\"/nobackup1/jbrown/nahant_phage_pacbio/contigs/%s/%s_kkhgap1.fasta\" % (phage, phage)):\n",
    "        kkhgap=glob.glob(\"/nobackup1/jbrown/nahant_phage_pacbio/contigs/%s/*kkhgap1.fasta\" % phage)[0]\n",
    "    \n",
    "        output=\"/nobackup1/jbrown/nahant_phage_pacbio/comparisons/gepard/%s_illumina_vs_kkhgap.png\" % phage\n",
    "        gepard_cmd=\"bash /nobackup1/jbrown/programs/gepard-1.30/gepardcmd.sh -seq1 %s -seq2 %s -matrix /nobackup1/jbrown/programs/gepard-1.30/matrices/edna.mat -outfile %s\" % (illumina_asm, kkhgap, output)\n",
    "        subprocess.call(gepard_cmd.split(\" \"))\n",
    "        print \"%s comparison done\" % phage\n",
    "    "
   ]
  },
  {
   "cell_type": "code",
   "execution_count": null,
   "metadata": {
    "collapsed": true
   },
   "outputs": [],
   "source": [
    "for phage in phages:\n",
    "    illumina_asm=\"/nobackup1/jbrown/annotation/genomes/%sfinal.fasta\" % phage\n",
    "    if os.path.exists(\"/nobackup1/jbrown/nahant_phage_pacbio/contigs/%s/%stry1.hybrid.asm.fasta\" % (phage, phage)):\n",
    "        kkhgap=glob.glob(\"/nobackup1/jbrown/nahant_phage_pacbio/contigs/%s/%stry1.hybrid.asm.fasta\" % (phage,phage))[0]\n",
    "    \n",
    "        output=\"/nobackup1/jbrown/nahant_phage_pacbio/comparisons/gepard/%s_illumina_vs_try1hybrid.png\" % phage\n",
    "        gepard_cmd=\"bash /nobackup1/jbrown/programs/gepard-1.30/gepardcmd.sh -seq1 %s -seq2 %s -matrix /nobackup1/jbrown/programs/gepard-1.30/matrices/edna.mat -outfile %s\" % (illumina_asm, kkhgap, output)\n",
    "        subprocess.call(gepard_cmd.split(\" \"))\n",
    "        print \"%s comparison done\" % phage"
   ]
  },
  {
   "cell_type": "markdown",
   "metadata": {},
   "source": [
    "## Identification of cut sites for pacbio/hgap contigs that were larger than their illumina counterparts\n",
    "\n",
    "> I want to cut the pacbio/hgap contigs at the start location of the illumina contigs"
   ]
  },
  {
   "cell_type": "code",
   "execution_count": 8,
   "metadata": {
    "collapsed": false
   },
   "outputs": [
    {
     "name": "stdout",
     "output_type": "stream",
     "text": [
      "7076\n",
      "144\n"
     ]
    }
   ],
   "source": [
    "blast=open(\"./data/kkhgap_vs_igenomes.txt\").readlines()\n",
    "print len(blast)\n",
    "\n",
    "goodblast=[]\n",
    "\n",
    "for l in blast:\n",
    "    vec=l.split(\"\\t\")\n",
    "    if float(vec[2])>99 and int(vec[3])>1000:\n",
    "        goodblast.append(l)\n",
    "print len(goodblast)"
   ]
  },
  {
   "cell_type": "code",
   "execution_count": 15,
   "metadata": {
    "collapsed": false
   },
   "outputs": [],
   "source": [
    "from pyfaidx import Fasta\n",
    "#create text object containing information about pb assembly contig lengths:\n",
    "\n",
    "kkasm=Fasta(\"./data/kkHGAP.fasta\") \n",
    "\n",
    "kk_lens={}\n",
    "\n",
    "for s in kkasm.keys():\n",
    "    length=len(str(kkasm[s]))\n",
    "    kk_lens[s]=length\n",
    "    \n",
    "ilens=open(\"./data/igenome_lengths.txt\").readlines()\n",
    "phages=[i.split(\"\\t\")[0] for i in ilens[1:]]\n",
    "lens=[i.split(\"\\t\")[1].replace(\"\\n\",\"\") for i in ilens[1:]]\n",
    "i_lens=dict(zip(phages, lens))"
   ]
  },
  {
   "cell_type": "code",
   "execution_count": 48,
   "metadata": {
    "collapsed": false
   },
   "outputs": [],
   "source": [
    "from collections import defaultdict\n",
    "starts=\"\"\n",
    "starts=defaultdict(lambda: (200000,200000))\n",
    "\n",
    "#identifying earliest point on target contig where query hits, the corresponding match on the query contig is where we will cut it for circularization\n",
    "for l in goodblast:\n",
    "    vec=l.split(\"\\t\")\n",
    "    q=vec[0]\n",
    "    t=vec[1].split(\"_\")[1]\n",
    "    if int(kk_lens[q])>int(i_lens[t]):\n",
    "        qstart=vec[6]\n",
    "        tstart=vec[8]\n",
    "        if int(tstart)<starts[t][1]:\n",
    "            #print \"changing %s to start %s instead of %s\" % (t, tstart, starts[q][1])\n",
    "            starts[t]=(int(qstart), int(tstart))\n",
    "\n",
    "for l in goodblast:\n",
    "    vec=l.split(\"\\t\")\n",
    "    q=vec[0]\n",
    "    t=vec[1].split(\"_\")[1]\n",
    "    qstart=vec[6]\n",
    "    qstop=vec[7]\n",
    "    tstart=vec[8]\n",
    "    if int(kk_lens[q])>int(i_lens[t]) and abs(int(kk_lens[q])-int(i_lens[t]))>200:\n",
    "        if starts[t][1]==1:\n",
    "            continue\n",
    "        elif starts[t][0]==1:\n",
    "            starts[t]=(int(qstop),int(tstart))\n",
    "\n",
    "starts\n",
    "\n",
    "out=open(\"./data/kkhgap_cut_spots.txt\",\"w\")\n",
    "for s in starts.keys():\n",
    "    out.write(\"%s\\t%s\\n\" % (s, starts[s][0]))\n",
    "out.close()"
   ]
  },
  {
   "cell_type": "code",
   "execution_count": 49,
   "metadata": {
    "collapsed": false
   },
   "outputs": [
    {
     "name": "stdout",
     "output_type": "stream",
     "text": [
      "2.096.O.\t40035\r\n",
      "1.211.B.\t31216\r\n",
      "1.007.O.\t48843\r\n",
      "2.117.O.\t35838\r\n",
      "1.161.O.\t874\r\n",
      "1.144.O.\t26852\r\n",
      "1.054.O.\t34110\r\n",
      "1.190.O.\t19002\r\n",
      "2.130.O.\t83927\r\n",
      "1.193.O.\t82697\r\n"
     ]
    }
   ],
   "source": [
    "!head ./data/kkhgap_cut_spots.txt"
   ]
  },
  {
   "cell_type": "markdown",
   "metadata": {},
   "source": [
    "### Create split contig files for recircularization\n",
    "> ### run in ipython on engaging"
   ]
  },
  {
   "cell_type": "code",
   "execution_count": null,
   "metadata": {
    "collapsed": true
   },
   "outputs": [],
   "source": [
    "from pyfaidx import Fasta\n",
    "import os\n",
    "\n",
    "if os.path.exists(\"./contigs/hgap1_to_circularize/\")==False:\n",
    "    os.mkdir(\"./contigs/hgap1_to_circularize/\")\n",
    "\n",
    "spots=open(\"kkhgap_cut_spots.txt\").readlines()\n",
    "starts=dict(zip([i.split(\"\\t\")[0] for i in spots], [int(i.split(\"\\t\")[1].replace(\"\\n\",\"\")) for i in spots]))\n",
    "\n",
    "for phage in starts.keys():\n",
    "    if os.path.exists(\"/nobackup1/jbrown/nahant_phage_pacbio/contigs/%s/%s_kkhgap1.fasta\" % (phage, phage)):\n",
    "        contig=Fasta(\"/nobackup1/jbrown/nahant_phage_pacbio/contigs/%s/%s_kkhgap1.fasta\" % (phage, phage))\n",
    "        split1=str(contig[0][0:starts[phage]])\n",
    "        split2=str(contig[0][starts[phage]:])\n",
    "        out=open(\"./contigs/hgap1_to_circularize/%shgap.to_circularize.fasta\" % phage, \"w\")\n",
    "        out.write(\">%s\\n%s\\n>%s_1\\n%s\" % (contig[0].name,split1,contig[0],split2))\n",
    "        out.close()\n"
   ]
  },
  {
   "cell_type": "code",
   "execution_count": null,
   "metadata": {
    "collapsed": true
   },
   "outputs": [],
   "source": []
  }
 ],
 "metadata": {
  "kernelspec": {
   "display_name": "Python 2",
   "language": "python",
   "name": "python2"
  },
  "language_info": {
   "codemirror_mode": {
    "name": "ipython",
    "version": 2
   },
   "file_extension": ".py",
   "mimetype": "text/x-python",
   "name": "python",
   "nbconvert_exporter": "python",
   "pygments_lexer": "ipython2",
   "version": "2.7.11"
  }
 },
 "nbformat": 4,
 "nbformat_minor": 0
}
