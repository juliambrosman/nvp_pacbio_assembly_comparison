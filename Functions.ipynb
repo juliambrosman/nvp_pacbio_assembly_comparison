{
 "cells": [
  {
   "cell_type": "code",
   "execution_count": null,
   "metadata": {
    "collapsed": true
   },
   "outputs": [],
   "source": [
    "from __future__ import division\n",
    "from pyfaidx import Fasta\n",
    "\n",
    "def write_read_lengths_to_file(read_fasta_files, output_file):\n",
    "    out=open(output_file,\"w\")\n",
    "    out.write(\"fasta_file\\tseq_id\\tread_len\\n\")\n",
    "    \n",
    "    readfiles=list(read_fasta_files)\n",
    "    for r in readfiles:\n",
    "        f=Fasta(r)\n",
    "        for i in f.keys():\n",
    "            length=len(str(f[i]))\n",
    "            fasta=r.split(\"/\")[-1]\n",
    "            sequence=i\n",
    "            out.write(\"%s\\t%s\\t%s\\n\" % (fasta, sequence, length))\n",
    "    out.close()\n",
    "\n",
    "def create_read_length_dict(dict_name, read_length_file):\n",
    "    rl=open(read_length_file).readlines()\n",
    "    ldict={}\n",
    "    for l in rl:\n",
    "        ldict[l.split(\"\\t\")[1]]=l.split(\"\\t\")[-1].replace(\"\\n\",\"\")\n",
    "    return ldict\n",
    "\n",
    "def filter_reads(read_length_dict, blast_file, output_blast_file, pctid_thresh=85, cov_thresh=0.99):\n",
    "    fblast=open(output_blast_file,\"w\")\n",
    "    with open(blast_file) as infile:\n",
    "        for i in infile:\n",
    "            vec=i.split(\"\\t\")\n",
    "            aln_len=vec[3]\n",
    "            read_len=int(ldict[vec[0]])\n",
    "            qhitlen=int(vec[7])-int(vec[6])\n",
    "            cov=qhitlen/read_len\n",
    "            pctid=float(vec[2])\n",
    "            if cov>cov_thresh and pctid>pctid_thresh:\n",
    "                fblast.write(i)\n",
    "    fblast.close()\n",
    "    \n",
    "    \n",
    "\n",
    "    "
   ]
  }
 ],
 "metadata": {
  "kernelspec": {
   "display_name": "Python 2",
   "language": "python",
   "name": "python2"
  },
  "language_info": {
   "codemirror_mode": {
    "name": "ipython",
    "version": 2
   },
   "file_extension": ".py",
   "mimetype": "text/x-python",
   "name": "python",
   "nbconvert_exporter": "python",
   "pygments_lexer": "ipython2",
   "version": "2.7.11"
  }
 },
 "nbformat": 4,
 "nbformat_minor": 0
}
