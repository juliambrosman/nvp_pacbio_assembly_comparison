{
 "cells": [
  {
   "cell_type": "markdown",
   "metadata": {},
   "source": [
    "# Run 10kbs through hybrid assembly using SPAdes"
   ]
  },
  {
   "cell_type": "code",
   "execution_count": 3,
   "metadata": {
    "collapsed": false
   },
   "outputs": [
    {
     "data": {
      "text/plain": [
       "['1.095.O.',\n",
       " '1.043.O.',\n",
       " '1.008.O.',\n",
       " '1.249.A.',\n",
       " '1.107.C.',\n",
       " '1.020.O.',\n",
       " '1.080.O.']"
      ]
     },
     "execution_count": 3,
     "metadata": {},
     "output_type": "execute_result"
    }
   ],
   "source": [
    "ilens=open(\"./data/igenome_lengths.txt\").readlines()\n",
    "phages=[i.split(\"\\t\")[0] for i in ilens[1:]]\n",
    "lens=[int(i.split(\"\\t\")[1].replace(\"\\n\",\"\")) for i in ilens[1:]]\n",
    "i_lens=dict(zip(phages, lens))\n",
    "\n",
    "tkbs=[i for i in i_lens.keys() if i_lens[i]<11000]\n",
    "tkbs"
   ]
  },
  {
   "cell_type": "code",
   "execution_count": null,
   "metadata": {
    "collapsed": true
   },
   "outputs": [],
   "source": [
    "import os\n",
    "import glob\n",
    "import subprocess\n",
    "\n",
    "if os.path.exists(\"./spades/\")==False:\n",
    "    os.mkdir(\"./spades/\")\n",
    "\n",
    "for phage in tkbs:    \n",
    "\n",
    "    if os.path.exists(\"./spades/%s\" % phage)==False:\n",
    "        os.mkdir(\"./spades/%s\" % phage)\n",
    "\n",
    "    output_dir=\"./spades/%s\" % phage\n",
    "    illumina_reads=glob.glob(\"/nobackup1/jbrown/nahant_phage_reads/%s*.fastq\" % phage)[0]\n",
    "    pb_reads=\"/nobackup1/jbrown/nahant_phage_pacbio/binned_reads2/%s_pb_subreads.fastq\" % phage\n",
    "\n",
    "    spades_input=\"spades.py -o %s --12 %s --pacbio %s\" % (output_dir, illumina_reads, pb_reads)\n",
    "    subprocess.call(spades_input.split(\" \"))"
   ]
  }
 ],
 "metadata": {
  "kernelspec": {
   "display_name": "Python 2",
   "language": "python",
   "name": "python2"
  },
  "language_info": {
   "codemirror_mode": {
    "name": "ipython",
    "version": 2
   },
   "file_extension": ".py",
   "mimetype": "text/x-python",
   "name": "python",
   "nbconvert_exporter": "python",
   "pygments_lexer": "ipython2",
   "version": "2.7.11"
  }
 },
 "nbformat": 4,
 "nbformat_minor": 0
}
