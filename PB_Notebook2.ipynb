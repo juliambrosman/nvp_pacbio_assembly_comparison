{
 "cells": [
  {
   "cell_type": "code",
   "execution_count": 75,
   "metadata": {
    "collapsed": false
   },
   "outputs": [
    {
     "name": "stdout",
     "output_type": "stream",
     "text": [
      "['phage\\tgenome_len\\n', '1.080.O.\\t10046\\n', '1.043.O.\\t10272\\n', '1.095.O.\\t10436\\n', '1.107.C.\\t10447\\n']\n"
     ]
    },
    {
     "data": {
      "text/plain": [
       "{'1.007.O.': '49244',\n",
       " '1.008.O.': '10579',\n",
       " '1.009.O.': '44443',\n",
       " '1.020.O.': '10636',\n",
       " '1.028.O.': '31704',\n",
       " '1.029.O.': '46513',\n",
       " '1.030.O.': '45827',\n",
       " '1.031.O.': '152942',\n",
       " '1.042.O.': '49730',\n",
       " '1.043.O.': '10272',\n",
       " '1.052.A.': '42889',\n",
       " '1.054.O.': '41774',\n",
       " '1.063.O.': '128641',\n",
       " '1.074.O.': '36922',\n",
       " '1.077.O.': '44047',\n",
       " '1.080.O.': '10046',\n",
       " '1.082.O.': '35810',\n",
       " '1.084.O.': '141906',\n",
       " '1.086.O.': '50835',\n",
       " '1.087.A.': '45674',\n",
       " '1.090.B.': '41868',\n",
       " '1.095.O.': '10436',\n",
       " '1.107.C.': '10447',\n",
       " '1.110.O.': '37556',\n",
       " '1.111.B.': '40209',\n",
       " '1.121.O.': '145590',\n",
       " '1.122.B.': '44523',\n",
       " '1.123.O.': '46071',\n",
       " '1.131.O.': '37933',\n",
       " '1.135.O.': '41918',\n",
       " '1.144.O.': '44418',\n",
       " '1.148.O.': '36789',\n",
       " '1.151.O.': '44307',\n",
       " '1.154.O.': '37136',\n",
       " '1.161.O.': '140668',\n",
       " '1.165.O.': '37046',\n",
       " '1.170.O.': '133692',\n",
       " '1.176.O.': '36463',\n",
       " '1.177.O.': '45439',\n",
       " '1.181.O.': '50228',\n",
       " '1.182.O.': '36910',\n",
       " '1.185.O.': '43397',\n",
       " '1.187.O.': '133254',\n",
       " '1.189.O.': '36855',\n",
       " '1.190.O.': '21785',\n",
       " '1.191.O.': '48354',\n",
       " '1.193.O.': '132560',\n",
       " '1.204.O.': '44168',\n",
       " '1.205.O.': '57861',\n",
       " '1.209.O.': '43712',\n",
       " '1.210.O.': '48224',\n",
       " '1.211.B.': '37169',\n",
       " '1.215.A.': '80834',\n",
       " '1.216.O.': '41359',\n",
       " '1.228.O.': '36667',\n",
       " '1.231.O.': '44527',\n",
       " '1.232.O.': '56736',\n",
       " '1.233.B.': '36823',\n",
       " '1.236.O.': '42646',\n",
       " '1.239.O.': '38618',\n",
       " '1.249.A.': '10611',\n",
       " '1.253.O.': '47008',\n",
       " '1.255.O.': '159885',\n",
       " '1.257.O.': '32371',\n",
       " '1.259.O.': '28145',\n",
       " '1.261.O.': '71992',\n",
       " '1.262.O.': '47635',\n",
       " '1.275.O.': '37915',\n",
       " '1.276.O.': '44334',\n",
       " '1.283.C.': '59530',\n",
       " '1.285.O.': '59437',\n",
       " '1.291.O.': '43662',\n",
       " '1.293.O.': '48275',\n",
       " '12G01.O.': '41498',\n",
       " '2.044.O.': '45020',\n",
       " '2.095.B.': '44649',\n",
       " '2.096.O.': '44683',\n",
       " '2.117.O.': '55795',\n",
       " '2.130.O.': '75797',\n",
       " '2.159.B.': '31617',\n",
       " '2.275.O.': '348911',\n",
       " '3.058.O.': '101642'}"
      ]
     },
     "execution_count": 75,
     "metadata": {},
     "output_type": "execute_result"
    }
   ],
   "source": [
    "ig_lendict={}\n",
    "ig_lens=open(\"./data/igenome_lengths.txt\").readlines()\n",
    "print ig_lens[0:5]\n",
    "for i in ig_lens[1:]:\n",
    "    ig_lendict[i.split(\"\\t\")[0]]=i.split(\"\\t\")[1].replace(\"\\n\",\"\")\n",
    "ig_lendict"
   ]
  },
  {
   "cell_type": "code",
   "execution_count": 3,
   "metadata": {
    "collapsed": false
   },
   "outputs": [],
   "source": [
    "rl=open(\"./data/read_lengths.txt\").readlines()\n",
    "\n",
    "ldict={}\n",
    "\n",
    "for l in rl:\n",
    "    ldict[l.split(\"\\t\")[1]]=l.split(\"\\t\")[-1].replace(\"\\n\",\"\")"
   ]
  },
  {
   "cell_type": "code",
   "execution_count": 21,
   "metadata": {
    "collapsed": false
   },
   "outputs": [],
   "source": [
    "from __future__ import division\n",
    "fblast=open(\"./data/pb_subreads_vs_igenomes_concat_filt1.txt\",\"w\")\n",
    "\n",
    "with open(\"./data/pb_subreads_vs_igenomes_concat.txt\") as infile:\n",
    "    for i in infile:\n",
    "        vec=i.split(\"\\t\")\n",
    "        aln_len=vec[3]\n",
    "        read_len=int(ldict[vec[0]])\n",
    "        qhitlen=int(vec[7])-int(vec[6])\n",
    "        cov=qhitlen/read_len\n",
    "        pctid=float(vec[2])\n",
    "        if cov>0.99 and pctid>80:\n",
    "            fblast.write(i)\n",
    "    fblast.close()"
   ]
  },
  {
   "cell_type": "code",
   "execution_count": 8,
   "metadata": {
    "collapsed": false
   },
   "outputs": [
    {
     "name": "stderr",
     "output_type": "stream",
     "text": [
      "//anaconda/lib/python2.7/site-packages/rpy2/robjects/functions.py:106: UserWarning: \n",
      "Attaching package: ‘dplyr’\n",
      "\n",
      "\n",
      "  res = super(Function, self).__call__(*new_args, **new_kwargs)\n",
      "//anaconda/lib/python2.7/site-packages/rpy2/robjects/functions.py:106: UserWarning: The following objects are masked from ‘package:stats’:\n",
      "\n",
      "    filter, lag\n",
      "\n",
      "\n",
      "  res = super(Function, self).__call__(*new_args, **new_kwargs)\n",
      "//anaconda/lib/python2.7/site-packages/rpy2/robjects/functions.py:106: UserWarning: The following objects are masked from ‘package:base’:\n",
      "\n",
      "    intersect, setdiff, setequal, union\n",
      "\n",
      "\n",
      "  res = super(Function, self).__call__(*new_args, **new_kwargs)\n"
     ]
    },
    {
     "data": {
      "text/plain": [
       "array(['dplyr', 'magrittr', 'ggplot2', 'tools', 'stats', 'graphics',\n",
       "       'grDevices', 'utils', 'datasets', 'methods', 'base'], \n",
       "      dtype='|S9')"
      ]
     },
     "execution_count": 8,
     "metadata": {},
     "output_type": "execute_result"
    }
   ],
   "source": [
    "%load_ext rpy2.ipython\n",
    "%R library(ggplot2);library(magrittr); library(dplyr)"
   ]
  },
  {
   "cell_type": "code",
   "execution_count": 37,
   "metadata": {
    "collapsed": false
   },
   "outputs": [
    {
     "data": {
      "text/plain": [
       "[1] \"there are 94921 reads that have greater than 99% alignment and 80% ID to concatenated genomes\"\n"
      ]
     },
     "metadata": {},
     "output_type": "display_data"
    }
   ],
   "source": [
    "%%R\n",
    "fb=read.table(\"./data/pb_subreads_vs_igenomes_concat_filt1.txt\", sep=\"\\t\")\n",
    "nrow(fb)%>%paste(\"there are\",.,\"reads that have greater than 99% alignment and 80% ID to concatenated genomes\", sep=\" \")%>%print"
   ]
  },
  {
   "cell_type": "code",
   "execution_count": 19,
   "metadata": {
    "collapsed": true
   },
   "outputs": [],
   "source": [
    "from __future__ import division\n",
    "fblast=open(\"./data/pb_subreads_vs_igenomes_filt1.txt\",\"w\")\n",
    "\n",
    "with open(\"./data/pb_subreads_vs_igenomes.txt\") as infile:\n",
    "    for i in infile:\n",
    "        vec=i.split(\"\\t\")\n",
    "        aln_len=vec[3]\n",
    "        read_len=int(ldict[vec[0]])\n",
    "        qhitlen=int(vec[7])-int(vec[6])\n",
    "        cov=qhitlen/read_len\n",
    "        pctid=float(vec[2])\n",
    "        if cov>0.99 and pctid>85:\n",
    "            fblast.write(i)\n",
    "    fblast.close()"
   ]
  },
  {
   "cell_type": "code",
   "execution_count": 20,
   "metadata": {
    "collapsed": false
   },
   "outputs": [
    {
     "data": {
      "text/plain": [
       "[1] \"there are 37441 reads that have greater than 99% alignment to non-concatenated genomes\"\n"
      ]
     },
     "metadata": {},
     "output_type": "display_data"
    }
   ],
   "source": [
    "%%R\n",
    "fb=read.table(\"./data/pb_subreads_vs_igenomes_filt1.txt\", sep=\"\\t\")\n",
    "nrow(fb)%>%paste(\"there are\",.,\"reads that have greater than 99% alignment and 80% ID to non-concatenated genomes\", sep=\" \")%>%print"
   ]
  },
  {
   "cell_type": "code",
   "execution_count": 67,
   "metadata": {
    "collapsed": false
   },
   "outputs": [],
   "source": [
    "%%R\n",
    "fb=read.table(\"./data/pb_subreads_vs_igenomes_concat_filt1.txt\", sep=\"\\t\")\n",
    "\n",
    "fb%>%group_by(V1, V2)%>%summarise(count=n())->read_ig_pairs\n",
    "\n",
    "\n",
    "read_ig_pairs%>%nrow%>%print\n",
    "read_ig_pairs$V1%>%unique%>%length%>%print\n",
    "read_ig_pairs$V1%>%unique->rms\n",
    "read_ig_pairs%>%group_by(count)%>%summarise(ct=n())\n",
    "read_ig_pairs%>%group_by(V1)%>%summarise(ct=n())%>%group_by(ct)%>%summarise(ct1=n())->read_dist\n",
    "colnames(read_dist)<-c(\"number_genomes_hit\",\"read_count\")\n",
    "print(read_dist)\n",
    "write.table(read_ig_pairs, \"./data/concat_blast_read_ig_pairs.txt\",sep=\"\\t\", quote=FALSE, row.names=FALSE)"
   ]
  },
  {
   "cell_type": "code",
   "execution_count": 42,
   "metadata": {
    "collapsed": false
   },
   "outputs": [
    {
     "name": "stdout",
     "output_type": "stream",
     "text": [
      "219817239\n"
     ]
    }
   ],
   "source": [
    "%Rpull rms\n",
    "tln=0\n",
    "for r in rms:\n",
    "    tln+=int(ldict[r])\n",
    "print tln"
   ]
  },
  {
   "cell_type": "code",
   "execution_count": 68,
   "metadata": {
    "collapsed": false
   },
   "outputs": [],
   "source": [
    "pairs=open(\"./data/concat_blast_read_ig_pairs.txt\").readlines()"
   ]
  },
  {
   "cell_type": "code",
   "execution_count": 71,
   "metadata": {
    "collapsed": false
   },
   "outputs": [],
   "source": [
    "from collections import defaultdict\n",
    "read_dict=defaultdict(lambda: [])\n",
    "\n",
    "for p in pairs[1:]:\n",
    "    phage=p.split(\"\\t\")[1].split(\"_\")[1]\n",
    "    read=p.split(\"\\t\")[0]\n",
    "    read_dict[phage]+=[read]"
   ]
  },
  {
   "cell_type": "code",
   "execution_count": 77,
   "metadata": {
    "collapsed": false
   },
   "outputs": [
    {
     "name": "stdout",
     "output_type": "stream",
     "text": [
      "coverage for 1.030.O. is 37.0\n",
      "coverage for 1.236.O. is 138.0\n",
      "coverage for 1.257.O. is 28.0\n",
      "coverage for 1.262.O. is 42.0\n",
      "coverage for 1.009.O. is 36.0\n",
      "coverage for 1.090.B. is 61.0\n",
      "coverage for 1.161.O. is 50.0\n",
      "coverage for 1.144.O. is 57.0\n",
      "coverage for 1.054.O. is 41.0\n",
      "coverage for 1.095.O. is 45.0\n",
      "coverage for 1.215.A. is 51.0\n",
      "coverage for 2.130.O. is 66.0\n",
      "coverage for 1.193.O. is 42.0\n",
      "coverage for 1.110.O. is 48.0\n",
      "coverage for 1.121.O. is 83.0\n",
      "coverage for 1.187.O. is 57.0\n",
      "coverage for 1.042.O. is 51.0\n",
      "coverage for 1.084.O. is 49.0\n",
      "coverage for 1.043.O. is 40.0\n",
      "coverage for 1.028.O. is 101.0\n",
      "coverage for 1.189.O. is 58.0\n",
      "coverage for 1.239.O. is 62.0\n",
      "coverage for 1.276.O. is 55.0\n",
      "coverage for 1.205.O. is 48.0\n",
      "coverage for 1.190.O. is 30.0\n",
      "coverage for 2.095.B. is 70.0\n",
      "coverage for 2.117.O. is 24.0\n",
      "coverage for 1.261.O. is 58.0\n",
      "coverage for 1.182.O. is 48.0\n",
      "coverage for 1.293.O. is 119.0\n",
      "coverage for 1.209.O. is 24.0\n",
      "coverage for 1.082.O. is 68.0\n",
      "coverage for 1.131.O. is 66.0\n",
      "coverage for 1.181.O. is 109.0\n",
      "coverage for 2.096.O. is 23.0\n",
      "coverage for 3.058.O. is 60.0\n",
      "coverage for 1.148.O. is 48.0\n",
      "coverage for 1.275.O. is 40.0\n",
      "coverage for 1.253.O. is 55.0\n",
      "coverage for 1.185.O. is 48.0\n",
      "coverage for 1.123.O. is 46.0\n",
      "coverage for 2.159.B. is 100.0\n",
      "coverage for 1.151.O. is 54.0\n",
      "coverage for 1.165.O. is 178.0\n",
      "coverage for 1.135.O. is 45.0\n",
      "coverage for 12G01.O. is 2.0\n",
      "coverage for 1.008.O. is 74.0\n",
      "coverage for 1.211.B. is 67.0\n",
      "coverage for 1.259.O. is 78.0\n",
      "coverage for 1.020.O. is 0.0\n",
      "coverage for 1.086.O. is 28.0\n",
      "coverage for 1.249.A. is 8.0\n",
      "coverage for 1.007.O. is 42.0\n",
      "coverage for 1.087.A. is 32.0\n",
      "coverage for 1.216.O. is 55.0\n",
      "coverage for 1.204.O. is 159.0\n",
      "coverage for 1.232.O. is 45.0\n",
      "coverage for 1.285.O. is 17.0\n",
      "coverage for 1.107.C. is 39.0\n",
      "coverage for 2.275.O. is 9.0\n",
      "coverage for 1.231.O. is 28.0\n",
      "coverage for 1.210.O. is 58.0\n",
      "coverage for 1.170.O. is 65.0\n",
      "coverage for 1.176.O. is 56.0\n",
      "coverage for 1.177.O. is 57.0\n",
      "coverage for 2.044.O. is 42.0\n",
      "coverage for 1.063.O. is 72.0\n",
      "coverage for 1.080.O. is 2.0\n",
      "coverage for 1.077.O. is 11.0\n",
      "coverage for 1.283.C. is 24.0\n",
      "coverage for 1.255.O. is 26.0\n",
      "coverage for 1.074.O. is 52.0\n",
      "coverage for 1.228.O. is 66.0\n",
      "coverage for 1.291.O. is 68.0\n",
      "coverage for 1.111.B. is 103.0\n",
      "coverage for 1.122.B. is 59.0\n",
      "coverage for 1.191.O. is 31.0\n",
      "coverage for 1.233.B. is 53.0\n",
      "coverage for 1.052.A. is 29.0\n",
      "coverage for 1.154.O. is 59.0\n",
      "coverage for 1.029.O. is 23.0\n"
     ]
    }
   ],
   "source": [
    "for p in read_dict.keys():\n",
    "    reads=read_dict[p]\n",
    "    genome_size=int(ig_lendict[p])\n",
    "    length=0\n",
    "    for r in reads:\n",
    "        rlen=int(ldict[r])\n",
    "        length+=rlen\n",
    "    coverage=round(length/genome_size)\n",
    "    print \"coverage for %s is %s\" % (p, coverage)\n",
    "    "
   ]
  },
  {
   "cell_type": "markdown",
   "metadata": {},
   "source": [
    "### Below python script used to sort reads into fastq files based on genome-matching read bins on server."
   ]
  },
  {
   "cell_type": "code",
   "execution_count": null,
   "metadata": {
    "collapsed": true
   },
   "outputs": [],
   "source": [
    "# %load ./scripts/extract_genome_read_bins.py\n",
    "#!usr/bin/python\n",
    "from collections import defaultdict\n",
    "from Bio import SeqIO\n",
    "import os\n",
    "\n",
    "def write_ids_to_fastq(id_list, fastq_in, fastq_out):\n",
    "    out_recs=[]\n",
    "    for record in SeqIO.parse(open_fastq(fastq_in), \"fastq\"):\n",
    "        if record.id in id_list:\n",
    "            out_recs.append(record)\n",
    "            \n",
    "    out=open(fastq_out, \"w\")\n",
    "    SeqIO.write(out_recs, out, \"fastq\")\n",
    "    out.close()\n",
    "    \n",
    "def open_fastq(fastq):\n",
    "    if fastq.endswith(\".gz\"):\n",
    "        fastq=gzip.open(fastq, \"rU\")\n",
    "    else:\n",
    "        fastq=open(fastq, \"rU\")\n",
    "    return fastq\n",
    "\n",
    "            \n",
    "os.mkdir(\"./binned_reads/\")\n",
    "\n",
    "pairs=open(\"concat_blast_read_ig_pairs.txt\").readlines()\n",
    "\n",
    "read_dict=defaultdict(lambda: [])    #create dictionary with phage as key, and reads that match phage as a list as the entry\n",
    "\n",
    "for p in pairs[1:]:\n",
    "    phage=p.split(\"\\t\")[1].split(\"_\")[1]\n",
    "    read=p.split(\"\\t\")[0]\n",
    "    read_dict[phage]+=[read]            \n",
    "\n",
    "for p in read_dict.keys():\n",
    "    reads=set(read_dict[p])\n",
    "    fastq_out=\"./binned_reads/%s_pb_subreads.fastq\" % p\n",
    "    write_ids_to_fastq(reads, \"all_subreads.fastq\", fastq_out)\n",
    "    \n"
   ]
  },
  {
   "cell_type": "markdown",
   "metadata": {},
   "source": [
    "#### looking into using a smaller alignment threshold to account for sequences potentially missed by the initial blast"
   ]
  },
  {
   "cell_type": "code",
   "execution_count": 80,
   "metadata": {
    "collapsed": true
   },
   "outputs": [],
   "source": [
    "# %load ./scripts/functions.py\n",
    "#!usr/bin/python\n",
    "from __future__ import division\n",
    "from pyfaidx import Fasta\n",
    "\n",
    "def write_read_lengths_to_file(read_fasta_files, output_file):\n",
    "    out=open(output_file,\"w\")\n",
    "    out.write(\"fasta_file\\tseq_id\\tread_len\\n\")\n",
    "    \n",
    "    readfiles=list(read_fasta_files)\n",
    "    for r in readfiles:\n",
    "        f=Fasta(r)\n",
    "        for i in f.keys():\n",
    "            length=len(str(f[i]))\n",
    "            fasta=r.split(\"/\")[-1]\n",
    "            sequence=i\n",
    "            out.write(\"%s\\t%s\\t%s\\n\" % (fasta, sequence, length))\n",
    "    out.close()\n",
    "\n",
    "def create_read_length_dict(dict_name, read_length_file):\n",
    "    rl=open(read_length_file).readlines()\n",
    "    ldict={}\n",
    "    for l in rl:\n",
    "        ldict[l.split(\"\\t\")[1]]=l.split(\"\\t\")[-1].replace(\"\\n\",\"\")\n",
    "    return ldict\n",
    "\n",
    "def filter_reads(read_length_dict, blast_file, output_blast_file, pctid_thresh=85, cov_thresh=0.99):\n",
    "    fblast=open(output_blast_file,\"w\")\n",
    "    with open(blast_file) as infile:\n",
    "        for i in infile:\n",
    "            vec=i.split(\"\\t\")\n",
    "            aln_len=vec[3]\n",
    "            read_len=int(ldict[vec[0]])\n",
    "            qhitlen=int(vec[7])-int(vec[6])\n",
    "            cov=qhitlen/read_len\n",
    "            pctid=float(vec[2])\n",
    "            if cov>cov_thresh and pctid>pctid_thresh:\n",
    "                fblast.write(i)\n",
    "    fblast.close()"
   ]
  },
  {
   "cell_type": "code",
   "execution_count": 88,
   "metadata": {
    "collapsed": false
   },
   "outputs": [],
   "source": [
    "filter_reads(ldict, \"./data/pb_subreads_vs_igenomes_concat.txt\", \"./data/pb_subreads_vs_igenomes_concat_filt2.txt\", pctid_thresh=0.8,cov_thresh=0.9)"
   ]
  },
  {
   "cell_type": "code",
   "execution_count": 89,
   "metadata": {
    "collapsed": false
   },
   "outputs": [
    {
     "data": {
      "text/plain": [
       "[1] 65960\n",
       "[1] 59023\n",
       "Source: local data frame [11 x 2]\n",
       "\n",
       "   number_genomes_hit read_count\n",
       "                (int)      (int)\n",
       "1                   1      54840\n",
       "2                   2       3017\n",
       "3                   3        548\n",
       "4                   4        300\n",
       "5                   5         96\n",
       "6                   6         42\n",
       "7                   7         28\n",
       "8                   8         72\n",
       "9                   9         68\n",
       "10                 10          6\n",
       "11                 11          6\n"
      ]
     },
     "metadata": {},
     "output_type": "display_data"
    }
   ],
   "source": [
    "%%R\n",
    "fb=read.table(\"./data/pb_subreads_vs_igenomes_concat_filt2.txt\", sep=\"\\t\")\n",
    "\n",
    "fb%>%group_by(V1, V2)%>%summarise(count=n())->read_ig_pairs\n",
    "\n",
    "\n",
    "read_ig_pairs%>%nrow%>%print\n",
    "read_ig_pairs$V1%>%unique%>%length%>%print\n",
    "read_ig_pairs$V1%>%unique->rms\n",
    "read_ig_pairs%>%group_by(count)%>%summarise(ct=n())\n",
    "read_ig_pairs%>%group_by(V1)%>%summarise(ct=n())%>%group_by(ct)%>%summarise(ct1=n())->read_dist\n",
    "colnames(read_dist)<-c(\"number_genomes_hit\",\"read_count\")\n",
    "print(read_dist)\n",
    "write.table(read_ig_pairs, \"./data/concat_blast_read_ig_pairs_2.txt\",sep=\"\\t\", quote=FALSE, row.names=FALSE)"
   ]
  },
  {
   "cell_type": "code",
   "execution_count": 91,
   "metadata": {
    "collapsed": false
   },
   "outputs": [
    {
     "data": {
      "text/plain": [
       "     phage      tSNE1      tSNE2 dbscan_grps\n",
       "1 1.003.O.  -42.87319  40.074449           1\n",
       "2 1.004.O.  -72.00439  72.478087           2\n",
       "3 1.005.O.   37.70535 -76.699446           3\n",
       "4 1.007.O. -105.80774   9.436151           4\n",
       "5 1.008.O.   20.10019  91.662298           5\n",
       "6 1.009.O.   43.37092 -96.188388           3\n"
      ]
     },
     "metadata": {},
     "output_type": "display_data"
    }
   ],
   "source": [
    "%%R\n",
    "groups<-read.table(\"/Users/jmb/Desktop/ViralFate/OrthoMCL/tSNE/tSNE_genome_clusters.txt\", sep=\"\\t\", header=TRUE)\n",
    "kkgroups<-read.table(\"/Users/jmb/Desktop/ViralFate/O\")\n",
    "\n",
    "head(groups)"
   ]
  },
  {
   "cell_type": "code",
   "execution_count": 96,
   "metadata": {
    "collapsed": false
   },
   "outputs": [
    {
     "data": {
      "text/plain": [
       "[1] Vibriophage_2.275.O._10N.286.54.E11 Vibriophage_3.058.O._10N.286.46.B8 \n",
       "[3] Vibriophage_1.030.O._10N.222.55.F9  Vibriophage_1.165.O._10N.261.51.B7 \n",
       "[5] Vibriophage_1.182.O._10N.286.46.E1  Vibriophage_1.228.O._10N.261.49.C1 \n",
       "81 Levels: Vibriophage_1.007.O._10N.261.55.F9 ...\n"
      ]
     },
     "metadata": {},
     "output_type": "display_data"
    }
   ],
   "source": [
    "%%R\n",
    "phagefull<-read_ig_pairs$V2%>%unique\n",
    "head(phagefull)"
   ]
  },
  {
   "cell_type": "code",
   "execution_count": 98,
   "metadata": {
    "collapsed": false
   },
   "outputs": [],
   "source": [
    "%Rpull phagefull\n",
    "phageshort=[i.split(\"_\")[1] for i in phagefull]\n",
    "%Rpush phageshort"
   ]
  },
  {
   "cell_type": "code",
   "execution_count": 99,
   "metadata": {
    "collapsed": false
   },
   "outputs": [
    {
     "data": {
      "text/plain": [
       "                            phagefull phageshort\n",
       "1 Vibriophage_2.275.O._10N.286.54.E11   2.275.O.\n",
       "2  Vibriophage_3.058.O._10N.286.46.B8   3.058.O.\n",
       "3  Vibriophage_1.030.O._10N.222.55.F9   1.030.O.\n",
       "4  Vibriophage_1.165.O._10N.261.51.B7   1.165.O.\n",
       "5  Vibriophage_1.182.O._10N.286.46.E1   1.182.O.\n",
       "6  Vibriophage_1.228.O._10N.261.49.C1   1.228.O.\n"
      ]
     },
     "metadata": {},
     "output_type": "display_data"
    }
   ],
   "source": [
    "%%R\n",
    "cbind.data.frame(phagefull, phageshort)->longshort\n",
    "longshort$"
   ]
  },
  {
   "cell_type": "code",
   "execution_count": null,
   "metadata": {
    "collapsed": true
   },
   "outputs": [],
   "source": [
    "%%R\n"
   ]
  }
 ],
 "metadata": {
  "kernelspec": {
   "display_name": "Python 2",
   "language": "python",
   "name": "python2"
  },
  "language_info": {
   "codemirror_mode": {
    "name": "ipython",
    "version": 2
   },
   "file_extension": ".py",
   "mimetype": "text/x-python",
   "name": "python",
   "nbconvert_exporter": "python",
   "pygments_lexer": "ipython2",
   "version": "2.7.11"
  }
 },
 "nbformat": 4,
 "nbformat_minor": 0
}
